{
 "cells": [
  {
   "cell_type": "markdown",
   "id": "ff21a650-4f0c-4f52-97f5-ad717c866a9b",
   "metadata": {},
   "source": [
    "# Introduction"
   ]
  },
  {
   "cell_type": "markdown",
   "id": "62d1c47f-674d-460e-afc4-4f75c14cd016",
   "metadata": {},
   "source": [
    "## Import NumPy"
   ]
  },
  {
   "cell_type": "code",
   "execution_count": 3,
   "id": "8507cede-32e9-40c4-bca3-fe132fef7ab9",
   "metadata": {},
   "outputs": [
    {
     "name": "stdout",
     "output_type": "stream",
     "text": [
      "[1 2 3 4 5]\n"
     ]
    }
   ],
   "source": [
    "import numpy\n",
    "\n",
    "array = numpy.array([1, 2, 3, 4, 5])\n",
    "\n",
    "print(array)"
   ]
  },
  {
   "cell_type": "code",
   "execution_count": 13,
   "id": "907ff398-2991-4283-bd38-df465a338777",
   "metadata": {},
   "outputs": [
    {
     "name": "stdout",
     "output_type": "stream",
     "text": [
      "[1 2 3 4 5]\n"
     ]
    }
   ],
   "source": [
    "from numpy import array\n",
    "\n",
    "arr = array([1, 2, 3, 4, 5])\n",
    "\n",
    "print(arr)"
   ]
  },
  {
   "cell_type": "code",
   "execution_count": 15,
   "id": "6fac5030-abe4-4df7-821c-2164f0bf594a",
   "metadata": {},
   "outputs": [
    {
     "name": "stdout",
     "output_type": "stream",
     "text": [
      "[1 2 3 4 5]\n"
     ]
    }
   ],
   "source": [
    "import numpy as np\n",
    "\n",
    "arr = np.array([1, 2, 3, 4, 5])\n",
    "\n",
    "print(arr)"
   ]
  },
  {
   "cell_type": "markdown",
   "id": "c683a2ad-967e-4f4e-9d55-1ca8cc7001c2",
   "metadata": {},
   "source": [
    "## Checking version"
   ]
  },
  {
   "cell_type": "code",
   "execution_count": 27,
   "id": "665f85ea-3fde-4b73-b0ab-e035032bcc77",
   "metadata": {},
   "outputs": [
    {
     "name": "stdout",
     "output_type": "stream",
     "text": [
      "1.26.4\n"
     ]
    }
   ],
   "source": [
    "print(np.__version__)"
   ]
  },
  {
   "cell_type": "markdown",
   "id": "8d0a70d3-9973-43f5-a090-088b1d47bad6",
   "metadata": {},
   "source": [
    "# Creating arrays"
   ]
  },
  {
   "cell_type": "code",
   "execution_count": 35,
   "id": "689dd065-4cba-4661-8088-b60eaf5be078",
   "metadata": {},
   "outputs": [
    {
     "name": "stdout",
     "output_type": "stream",
     "text": [
      "[-1  0  1]\n",
      "[-1  0  1]\n"
     ]
    }
   ],
   "source": [
    "arr_tuple = np.array((-1, 0, 1)) # tuple\n",
    "arr_list = np.array([-1, 0, 1]) # list\n",
    "\n",
    "print(arr_tuple)\n",
    "print(arr_list)"
   ]
  },
  {
   "cell_type": "code",
   "execution_count": 37,
   "id": "60c88653-79f9-4256-9f12-cb16ba157dda",
   "metadata": {},
   "outputs": [
    {
     "name": "stdout",
     "output_type": "stream",
     "text": [
      "<class 'numpy.ndarray'>\n"
     ]
    }
   ],
   "source": [
    "print(type(arr))"
   ]
  },
  {
   "cell_type": "raw",
   "id": "2fbad8ad-9598-4950-ba61-a12200e7fcbb",
   "metadata": {},
   "source": [
    "ndarray means N-Dimensional Array"
   ]
  },
  {
   "cell_type": "markdown",
   "id": "61877ca5-0f17-4303-b292-c097d3c04333",
   "metadata": {},
   "source": [
    "### Tensor -- N-Dimesional numeric array"
   ]
  },
  {
   "cell_type": "markdown",
   "id": "4cebb703-7969-493f-ae5b-02f84fae5525",
   "metadata": {},
   "source": [
    "0D array - Scalar\n",
    "\n",
    "1D array - Vector\n",
    "\n",
    "2D array - Matrix\n",
    "\n",
    "3D array - Tesor (Stack of matrices)\n",
    "\n",
    "ND+ array - Nnd order tensor"
   ]
  },
  {
   "cell_type": "markdown",
   "id": "d05b71ea-e52b-4fd0-8a1e-a01f01c209ba",
   "metadata": {},
   "source": [
    "### Datatype\n"
   ]
  },
  {
   "cell_type": "code",
   "execution_count": 57,
   "id": "d2e3f90d-2de4-44ee-966b-cc425e322a89",
   "metadata": {},
   "outputs": [
    {
     "name": "stdout",
     "output_type": "stream",
     "text": [
      "float64\n",
      "int32\n"
     ]
    }
   ],
   "source": [
    "arr_float = np.array((1.1, 0, -23.0))\n",
    "arr_int = np.array((1, 35, 0, -43))\n",
    "\n",
    "# dtype - data type, attribute of class `numpy.ndarray`\n",
    "print(arr_float.dtype)\n",
    "print(arr_int.dtype)"
   ]
  },
  {
   "cell_type": "markdown",
   "id": "374b93d2-3757-45dc-8067-a0a881a3b2e7",
   "metadata": {},
   "source": [
    "## Dimesions in arrays"
   ]
  },
  {
   "cell_type": "code",
   "execution_count": null,
   "id": "9440e6f3-5592-441b-91c5-64bd7736bc59",
   "metadata": {},
   "outputs": [],
   "source": []
  }
 ],
 "metadata": {
  "kernelspec": {
   "display_name": "Python [conda env:base] *",
   "language": "python",
   "name": "conda-base-py"
  },
  "language_info": {
   "codemirror_mode": {
    "name": "ipython",
    "version": 3
   },
   "file_extension": ".py",
   "mimetype": "text/x-python",
   "name": "python",
   "nbconvert_exporter": "python",
   "pygments_lexer": "ipython3",
   "version": "3.12.7"
  }
 },
 "nbformat": 4,
 "nbformat_minor": 5
}
